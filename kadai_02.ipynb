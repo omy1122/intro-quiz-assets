{
  "cells": [
    {
      "cell_type": "markdown",
      "metadata": {
        "id": "E3ICMoPZL9W5"
      },
      "source": [
        "# コンピュータの言語2025: 課題２"
      ]
    },
    {
      "cell_type": "markdown",
      "metadata": {
        "id": "T5575SyRL9W6"
      },
      "source": [
        "## 1. はじめに\n",
        "\n",
        "[Google colaboratory](https://colab.google) や [jupyter notebook](https://jupyter.org) はプログラムを対話的に実行できる便利な環境です．今年度のコンピュータの言語では， Google colaboratory 環境を使って練習しながら python とプログラムの考え方に慣れていってもらいます．\n",
        "\n",
        "### セルの実行と編集\n",
        "\n",
        "notebook 環境のドキュメントは __セル(Cell)__ というまとまりから構成されています．セルには２種類あります．\n",
        "\n",
        "* __テキストセル__ : 説明や文章を書きます．ダブルクリックで編集することができ，__Shift+Enter__ (Shiftキーを押しながらEnterキーを押す） で確定されます．\n",
        "* __コードセル__ : プログラムを書いて実行します．クリックで編集することができ，__Shift+Enter__ でプログラムが実行されます．\n"
      ]
    },
    {
      "cell_type": "markdown",
      "metadata": {
        "id": "GxV_BKupL9W6"
      },
      "source": [
        "## 2. python を使った計算"
      ]
    },
    {
      "cell_type": "markdown",
      "metadata": {
        "id": "M42uxeN9L9W6"
      },
      "source": [
        "### 四則計算"
      ]
    },
    {
      "cell_type": "markdown",
      "metadata": {
        "id": "O7XMeUoxL9W7"
      },
      "source": [
        "いくつかの計算をして見ましょう．四則演算の記号は以下となります．\n",
        "* 足し算：```+```\n",
        "* 引き算：```-```\n",
        "* 掛け算：```*```\n",
        "* 割り算：```/```"
      ]
    },
    {
      "cell_type": "code",
      "execution_count": null,
      "metadata": {
        "id": "lxySBu7vPVL_"
      },
      "outputs": [],
      "source": [
        "1+1"
      ]
    },
    {
      "cell_type": "code",
      "execution_count": null,
      "metadata": {
        "id": "oQ_CjkQOPVMH"
      },
      "outputs": [],
      "source": [
        "3-2"
      ]
    },
    {
      "cell_type": "code",
      "execution_count": null,
      "metadata": {
        "id": "9WBDpkQ2PVMM"
      },
      "outputs": [],
      "source": [
        "4/2"
      ]
    },
    {
      "cell_type": "code",
      "execution_count": null,
      "metadata": {
        "id": "JAfCpLo8PVMQ"
      },
      "outputs": [],
      "source": [
        "2*3"
      ]
    },
    {
      "cell_type": "code",
      "execution_count": null,
      "metadata": {
        "id": "OPMGfsHwPVMS"
      },
      "outputs": [],
      "source": [
        "2.0*3"
      ]
    },
    {
      "cell_type": "code",
      "execution_count": null,
      "metadata": {
        "id": "czcq9a97PVMV"
      },
      "outputs": [],
      "source": [
        "(10+3)*2-1"
      ]
    },
    {
      "cell_type": "markdown",
      "metadata": {
        "id": "-om5rl9SL9W9"
      },
      "source": [
        "### べき乗\n",
        "\n",
        "$2^3$ は　```**``` という記号を使って計算することができます．２の３乗は８ですね．"
      ]
    },
    {
      "cell_type": "code",
      "execution_count": null,
      "metadata": {
        "id": "BKwhLmbaPVMY"
      },
      "outputs": [],
      "source": [
        "2**3"
      ]
    },
    {
      "cell_type": "markdown",
      "metadata": {
        "id": "Gc1dXdGgPVMf"
      },
      "source": [
        "### 割り算の商と剰余\n",
        "割り算の```/``` は少数まで求めますが，整数だけ求めたいとき，つまり割り算の__商__は ```//```，割り算の__あまり（剰余）__は ```%``` という記号を使って計算することができます．例えば，10を3で割った時の商3と余り1 については以下のように求めることができます．"
      ]
    },
    {
      "cell_type": "code",
      "execution_count": null,
      "metadata": {
        "id": "rDXH14OjPVMg"
      },
      "outputs": [],
      "source": [
        "10//3"
      ]
    },
    {
      "cell_type": "code",
      "execution_count": null,
      "metadata": {
        "id": "aHL6ExqPPVM5"
      },
      "outputs": [],
      "source": [
        "10%3"
      ]
    },
    {
      "cell_type": "markdown",
      "metadata": {
        "id": "oviZr5FVPVM-"
      },
      "source": [
        "### コメント\n",
        "プログラムをするときには，コードの説明を入れることがよくあります．この説明のことを __[コメント](http://ja.wikipedia.org/wiki/コメント(コンピュータ)__ と言います．コメントはプログラムでは通常実行されません．\n",
        "\n",
        "Python ではコメント部分を示すのに ```#``` の記号を使い，```＃``` のある場所から行末までがコメントとなります．"
      ]
    },
    {
      "cell_type": "code",
      "execution_count": null,
      "metadata": {
        "id": "ZB19hyAVPVNQ"
      },
      "outputs": [],
      "source": [
        "10%3  # この部分は説明です．"
      ]
    },
    {
      "cell_type": "markdown",
      "metadata": {
        "id": "CbX2EtYxPVNX"
      },
      "source": [
        "### printによる出力\n",
        "ここまでの計算では，全て計算結果がすぐ下に出てきていましたが，複数の計算結果を出力したい場合には ```print``` 命令を使います．書式は\n",
        "\n",
        "```\n",
        "print(出力したいもの)\n",
        "```\n",
        "\n",
        "です．"
      ]
    },
    {
      "cell_type": "code",
      "execution_count": null,
      "metadata": {
        "id": "m0_1xR46PVNX"
      },
      "outputs": [],
      "source": [
        "print(1+1)\n",
        "print(3+3)\n",
        "print(\"1+1を計算したら\", 1+1, \"になる\")"
      ]
    },
    {
      "cell_type": "markdown",
      "metadata": {
        "id": "uMZHil5YPVPA"
      },
      "source": [
        "### ビットとバイト\n",
        "\n",
        "前回の授業では __ビット(bit)__ と __バイト(byte)__ という単位について学習しました．\n",
        "\n",
        "それでは何ビットで何通りのことを表現できるかを調べてみましょう．そのためには，２のべき乗を計算すればよいことになります．$2^n$ は python では ```2**n``` で計算できますので，以下のようになります．"
      ]
    },
    {
      "cell_type": "code",
      "execution_count": null,
      "metadata": {
        "id": "4u2DMH0UPVPB"
      },
      "outputs": [],
      "source": [
        "print(2**1) # 1ビット\n",
        "print(2**2) # 2ビット\n",
        "print(2**3) # 3ビット"
      ]
    },
    {
      "cell_type": "markdown",
      "metadata": {
        "id": "ZMbrpFSNPVPD"
      },
      "source": [
        "次に何バイトで何通りのことを表現できるでしょうか？ 1バイトは8ビットですから，p バイトだと $8 \\times p$  ビットになりますので，"
      ]
    },
    {
      "cell_type": "code",
      "execution_count": null,
      "metadata": {
        "id": "0Rsbn6orPVPE"
      },
      "outputs": [],
      "source": [
        "print(2**(8))   #1バイト\n",
        "print(2**(8*2)) #2バイト\n",
        "print(2**(8*3)) #3バイト"
      ]
    },
    {
      "cell_type": "markdown",
      "metadata": {
        "id": "qx5f_gzbPVPH"
      },
      "source": [
        "バイト数が大きくなると急速に大きな数になっていることがわかりますね．"
      ]
    },
    {
      "cell_type": "markdown",
      "metadata": {
        "id": "iYrgxpI3L9XA"
      },
      "source": [
        "## 3. データ型(type)\n",
        "\n",
        "プログラムにはどんな言語にも様々なデータの型があります．Python には以下の型があります．\n",
        "\n",
        "* __数値型__\n",
        "\t* 整数 (__int__)\n",
        "\t* 浮動小数点（__float__）\n",
        "* __文字列型__ (__str__)\n",
        "* __真偽型__ (__bool__)\n",
        "\n",
        "そして，それらを複数集めて一緒に使うための型があります．\n",
        "\n",
        "* __リスト型__ (__list__)\n",
        "* __辞書型__ (__dict__)\n",
        "* __タプル型__ (__tuple__)\n",
        "\n",
        "今回は上の，数値型，文字列型，論理型について扱います．\n",
        "\n",
        "__以下では，例にある計算や式を下のセルに入力して実行してください__\n",
        "（キーボードで入力してキーボード入力に慣れるようにしてください）\n",
        "\n",
        "__プログラムの実行は，実行したい行（セル）を選択して shiftキーを押しながらenter(またはreturn) キーを押します．__"
      ]
    },
    {
      "cell_type": "markdown",
      "metadata": {
        "id": "zG7vH4quL9XA"
      },
      "source": [
        "### 数値型\n",
        "\n",
        "\n",
        "#### 整数\n",
        "```python\n",
        "1+1\n",
        "```"
      ]
    },
    {
      "cell_type": "code",
      "execution_count": null,
      "metadata": {
        "id": "tuT9151QL9XA"
      },
      "outputs": [],
      "source": []
    },
    {
      "cell_type": "markdown",
      "metadata": {
        "id": "dFRV5UOEL9XA"
      },
      "source": [
        "#### 浮動小数点\n",
        "浮動小数点数であることを明示するためには ```.0``` をつけます．\n",
        "```python\n",
        "1.0+1.0\n",
        "```"
      ]
    },
    {
      "cell_type": "code",
      "execution_count": null,
      "metadata": {
        "id": "cwQU40kxL9XA"
      },
      "outputs": [],
      "source": []
    },
    {
      "cell_type": "markdown",
      "metadata": {
        "id": "xG5l5waAL9XA"
      },
      "source": [
        "整数と浮動小数点の数を一緒に計算すると，自動的に __型変換__ が行われて，結果は浮動小数点型になります．\n",
        "```python\n",
        "1+2.0\n",
        "```"
      ]
    },
    {
      "cell_type": "code",
      "execution_count": null,
      "metadata": {
        "id": "_V681CElL9XA"
      },
      "outputs": [],
      "source": []
    },
    {
      "cell_type": "markdown",
      "metadata": {
        "id": "-u9cjfVOL9XB"
      },
      "source": [
        "### 文字列\n",
        "\n",
        "\" \" や '' の記号で囲まれた文字が ___文字列___ として扱われます．どちらの記号を使っても構いません．\n",
        "```python\n",
        "\"Hello\"\n",
        "```"
      ]
    },
    {
      "cell_type": "code",
      "execution_count": null,
      "metadata": {
        "id": "Bt81iygYL9XB"
      },
      "outputs": [],
      "source": []
    },
    {
      "cell_type": "markdown",
      "metadata": {
        "id": "gcR7oGUtL9XB"
      },
      "source": [
        "```python\n",
        "'Hello'\n",
        "```"
      ]
    },
    {
      "cell_type": "code",
      "execution_count": null,
      "metadata": {
        "id": "_Zzl1OEnL9XB"
      },
      "outputs": [],
      "source": []
    },
    {
      "cell_type": "markdown",
      "metadata": {
        "id": "hvm95QeGL9XB"
      },
      "source": [
        "文字列型での足し算は，二つの文字列をくっつける操作になります．\n",
        "```python\n",
        "'Hello' + 'Python'\n",
        "```"
      ]
    },
    {
      "cell_type": "code",
      "execution_count": null,
      "metadata": {
        "id": "gfAUS-RSL9XB"
      },
      "outputs": [],
      "source": []
    },
    {
      "cell_type": "markdown",
      "metadata": {
        "id": "vC9RVRbyL9XB"
      },
      "source": [
        "数字も \"\" で囲まれると文字列として扱われます．例えば，数字の 1 と文字の 1 の足し算をするとエラーになります．\n",
        "```python\n",
        "1 + '1'\n",
        "```"
      ]
    },
    {
      "cell_type": "code",
      "execution_count": null,
      "metadata": {
        "id": "ZjiCm40LL9XC"
      },
      "outputs": [],
      "source": []
    },
    {
      "cell_type": "markdown",
      "metadata": {
        "id": "qSm0zstZL9XC"
      },
      "source": [
        "上のエラー表示の ___TypeError___ は「型のエラー」ということですね．int（整数）と str（文字列）では足し算ができないと怒られます．"
      ]
    },
    {
      "cell_type": "markdown",
      "metadata": {
        "id": "FCKf8_V3L9XC"
      },
      "source": [
        "### 型の確認と変換"
      ]
    },
    {
      "cell_type": "markdown",
      "metadata": {
        "id": "qTPUXz8bL9XC"
      },
      "source": [
        "型(type)の確認は ```type()``` という関数で確かめることができます．以下のそれぞれの命令の結果を確かめてください．\n",
        "```python\n",
        "type(1), type(1.0), type('hello')\n",
        "```"
      ]
    },
    {
      "cell_type": "code",
      "execution_count": null,
      "metadata": {
        "id": "f1lrSdLTL9XC"
      },
      "outputs": [],
      "source": []
    },
    {
      "cell_type": "code",
      "execution_count": null,
      "metadata": {
        "id": "z9AZzuYKL9XC"
      },
      "outputs": [],
      "source": []
    },
    {
      "cell_type": "code",
      "execution_count": null,
      "metadata": {
        "id": "wmEazsADL9XC"
      },
      "outputs": [],
      "source": []
    },
    {
      "cell_type": "markdown",
      "metadata": {
        "id": "YTMqLifTL9XC"
      },
      "source": [
        "異なる型どうしでも適切に型の変換をしてやることで演算をすることができます．型変換をする関数には ```int(), float(), str()``` があります．\n",
        "```python\n",
        "1 + int('1')   # '1' を整数型の1として扱ってほしい\n",
        "```"
      ]
    },
    {
      "cell_type": "code",
      "execution_count": null,
      "metadata": {
        "id": "-PYZeEltL9XD"
      },
      "outputs": [],
      "source": []
    },
    {
      "cell_type": "markdown",
      "metadata": {
        "id": "dlRG_QoPL9XD"
      },
      "source": [
        "```python\n",
        "str(1) + '2'   # 1 を 文字列型の'1' として扱ってほしい\n",
        "```"
      ]
    },
    {
      "cell_type": "code",
      "execution_count": null,
      "metadata": {
        "id": "kI6X-hglL9XD"
      },
      "outputs": [],
      "source": []
    },
    {
      "cell_type": "markdown",
      "metadata": {
        "id": "OvTtvzz4L9XD"
      },
      "source": [
        "### 真偽型\n",
        "\n",
        "論理型，ブール型とも言います．__真(True)__か__偽(False)__の２つの値だけを示す場合に使われます．以下では２つの数値を比較する演算子（__比較演算子__) の結果が真偽型で表示されている例です．\n",
        "```python\n",
        "3>1\n",
        "```"
      ]
    },
    {
      "cell_type": "code",
      "execution_count": null,
      "metadata": {
        "id": "RVZaR4PsL9XD"
      },
      "outputs": [],
      "source": []
    },
    {
      "cell_type": "markdown",
      "metadata": {
        "id": "Rdzr6UxzL9XD"
      },
      "source": [
        "```python\n",
        "3<1\n",
        "```"
      ]
    },
    {
      "cell_type": "code",
      "execution_count": null,
      "metadata": {
        "id": "LgCSVqlWL9XD"
      },
      "outputs": [],
      "source": []
    },
    {
      "cell_type": "markdown",
      "metadata": {
        "id": "bbSYdIlWL9XD"
      },
      "source": [
        "比較演算子には以下のようなものがあります．\n",
        "\n",
        "|演算子| 使用例 | 意味 |\n",
        "|------|--------|------|\n",
        "| == | a==b | a と b が等しければ True |\n",
        "| != | a!=b | a と b が違うなら True |\n",
        "| < | a<b | a が b 未満なら True |\n",
        "| <= | a<=b | a が b 以下なら True |\n",
        "| >= | a>=b | a が b 以上なら True |\n",
        "| > | a>b | aがbより大きいなら True |\n",
        "\n",
        "他の言語と異なり，２つの比較をつなげることができます．\n",
        "```python\n",
        "print( 1<2<3 )\n",
        "print( 2<3<1 )\n",
        "```"
      ]
    },
    {
      "cell_type": "code",
      "execution_count": null,
      "metadata": {
        "id": "6q6rU4AxL9XD"
      },
      "outputs": [],
      "source": [
        "\n"
      ]
    },
    {
      "cell_type": "markdown",
      "metadata": {
        "id": "ov4SQ7GAL9XE"
      },
      "source": [
        "## 論理演算\n",
        "\n",
        "論理型には ```and``` や ```or``` などの演算子があります．\n",
        "```python\n",
        "True and False\n",
        "```"
      ]
    },
    {
      "cell_type": "code",
      "execution_count": null,
      "metadata": {
        "id": "dPKZUFPwL9XE"
      },
      "outputs": [],
      "source": []
    },
    {
      "cell_type": "markdown",
      "metadata": {
        "id": "NP48rrMoL9XE"
      },
      "source": [
        "```python\n",
        "True or False\n",
        "```"
      ]
    },
    {
      "cell_type": "code",
      "execution_count": null,
      "metadata": {
        "id": "oK7ZT4BcL9XE"
      },
      "outputs": [],
      "source": []
    },
    {
      "cell_type": "markdown",
      "metadata": {
        "id": "KQDH0OmYL9XE"
      },
      "source": [
        "True と 1 False と 0 は同じものとして扱われます．\n",
        "```python\n",
        "True==1\n",
        "```"
      ]
    },
    {
      "cell_type": "code",
      "execution_count": null,
      "metadata": {
        "id": "uqhOJBHcL9XE"
      },
      "outputs": [],
      "source": []
    },
    {
      "cell_type": "markdown",
      "metadata": {
        "id": "452SdEvGL9XF"
      },
      "source": [
        "```python\n",
        "False==0\n",
        "```"
      ]
    },
    {
      "cell_type": "code",
      "execution_count": null,
      "metadata": {
        "id": "6b29dzFxL9XF"
      },
      "outputs": [],
      "source": []
    },
    {
      "cell_type": "markdown",
      "metadata": {
        "id": "TANJpU1-L9XF"
      },
      "source": [
        "```not``` は否定です．\n",
        "```python\n",
        "print(not True)\n",
        "print(not False)\n",
        "```"
      ]
    },
    {
      "cell_type": "code",
      "execution_count": null,
      "metadata": {
        "id": "XCRiRqJBL9XF"
      },
      "outputs": [],
      "source": [
        "\n"
      ]
    },
    {
      "cell_type": "markdown",
      "metadata": {
        "id": "hCXg5pM6L9XF"
      },
      "source": [
        "「6 は2で割り切れ，かつ3でも割り切れる」は真でしょうか偽でしょうか？\n",
        "\n",
        "「6が2で割り切れる」は 「6を2で割った余りが0である」ということですから，```6%2==0```　とかけます．\n",
        "\n",
        "「かつ」は ```and``` ですから以下のように書くことができます．\n",
        "\n",
        "```python\n",
        "(6%2==0) and (6%3==0)\n",
        "```"
      ]
    },
    {
      "cell_type": "code",
      "execution_count": null,
      "metadata": {
        "id": "DQ6IXbwdL9XF"
      },
      "outputs": [],
      "source": []
    },
    {
      "cell_type": "markdown",
      "metadata": {
        "id": "byOJAzciL9XF"
      },
      "source": [
        "## 4. 変数\n",
        "\n",
        "プログラムではデータをそのまま扱うことは稀で，ふつうデータに名前をつけて操作を行います．この名前のことを __変数__ といいます．\n",
        "\n",
        "Python では変数が何のデータ型なのかを指定せずに，すぐに定義することができます．\n",
        "\n",
        "```python\n",
        "x = 3      # 3 という数字を用意して，それに x という名前をつける\n",
        "print(x)   # x の中身を出力する\n",
        "```"
      ]
    },
    {
      "cell_type": "code",
      "execution_count": null,
      "metadata": {
        "id": "Uz6vQSr-L9XG"
      },
      "outputs": [],
      "source": [
        "\n"
      ]
    },
    {
      "cell_type": "markdown",
      "metadata": {
        "id": "qKCL0nR5L9XG"
      },
      "source": [
        "変数を初めて宣言する時に，型を指定しなくてもよいのは，よい面もありますが，悪い面もあります．他の人のプログラムを見た時に，その変数がどのような型で使われているのかわからない時があるからです．そんな時は，```type``` 関数で型を調べることが助けになります．\n",
        "\n",
        "```python\n",
        "x = 3\n",
        "print(x)\n",
        "print(type(x))\n",
        "\n",
        "x = \"Hello\"\n",
        "print(x)\n",
        "print(type(x))\n",
        "```"
      ]
    },
    {
      "cell_type": "code",
      "execution_count": null,
      "metadata": {
        "id": "8jdFKwufL9XG"
      },
      "outputs": [],
      "source": [
        "x=3\n",
        "print(x)\n",
        "print(type(x))"
      ]
    },
    {
      "cell_type": "code",
      "execution_count": null,
      "metadata": {
        "id": "mhzQndvJL9XG"
      },
      "outputs": [],
      "source": [
        "x = \"Hello\"\n",
        "print(x)\n",
        "print(type(x))"
      ]
    },
    {
      "cell_type": "markdown",
      "metadata": {
        "id": "G359-q0cL9XG"
      },
      "source": [
        "## print"
      ]
    },
    {
      "cell_type": "markdown",
      "metadata": {
        "id": "sZ68oIyPL9XG"
      },
      "source": [
        "```print``` 命令で変数の値を出力するときに，変数の数値や文字を文の中に埋め込むとわかりやすい出力になります．\n",
        "\n",
        "\n",
        "そのためには，文字列型のformat というメソッドを使います．"
      ]
    },
    {
      "cell_type": "code",
      "execution_count": null,
      "metadata": {
        "id": "j119CGPfL9XG"
      },
      "outputs": [],
      "source": [
        "x=3\n",
        "print( \"xの値は{}です\".format(x) )"
      ]
    },
    {
      "cell_type": "code",
      "execution_count": null,
      "metadata": {
        "id": "KWEx0AOwL9XG"
      },
      "outputs": [],
      "source": [
        "x=\"This is a pen.\"\n",
        "y=\"これはペンです\"\n",
        "print( \"「{}」の日本語訳は「{}」です．\".format(x,y) )"
      ]
    },
    {
      "cell_type": "markdown",
      "metadata": {
        "id": "IFsMD5UYL9XH"
      },
      "source": [
        "また，python3.6 からは __f文字列__ という表記でも，変数を文字列に埋め込むことができます．文字列の前に f を書き，{} の中に変数名を書きます．こちらの方が簡単ですね．"
      ]
    },
    {
      "cell_type": "code",
      "execution_count": null,
      "metadata": {
        "id": "VPG1jJZpL9XH"
      },
      "outputs": [],
      "source": [
        "x = 3\n",
        "print( f'xの値は{x}です')\n",
        "x = 'Good morning!'\n",
        "y = 'おはよう'\n",
        "print( f'{x}の日本語訳は{y}です．' )"
      ]
    },
    {
      "cell_type": "markdown",
      "metadata": {
        "id": "hRhAcmfDL9XH"
      },
      "source": [
        "# 課題\n",
        "\n",
        "* 必ず実行結果を出力するようにしてください．\n",
        "\n",
        "__[1]__  文字列に対して * の演算子を使うと結果はどうなるでしょう．以下のプログラムの結果を下に書いて出力を調べてください．\n",
        "\n",
        "```python\n",
        "\"hello\"*6\n",
        "```"
      ]
    },
    {
      "cell_type": "code",
      "execution_count": 2,
      "metadata": {
        "problem": 1,
        "id": "F_hE2eeEL9XH",
        "colab": {
          "base_uri": "https://localhost:8080/",
          "height": 35
        },
        "outputId": "967031fd-cd6d-44f8-f347-5440f481576e"
      },
      "outputs": [
        {
          "output_type": "execute_result",
          "data": {
            "text/plain": [
              "'hellohellohellohellohellohello'"
            ],
            "application/vnd.google.colaboratory.intrinsic+json": {
              "type": "string"
            }
          },
          "metadata": {},
          "execution_count": 2
        }
      ],
      "source": [
        "'hellohellohellohellohellohello'"
      ]
    },
    {
      "cell_type": "markdown",
      "metadata": {
        "id": "dJek48WgL9XH"
      },
      "source": [
        "__[2]__ 250円の定規を4本、60円のクレヨンを8本を2割引で購入しました。消費税を10%として、支払い金額を求めるために、以下の式の XXXX, YYYY, ZZZZ の部分を編集して完成させてください。"
      ]
    },
    {
      "cell_type": "code",
      "execution_count": 3,
      "metadata": {
        "problem": 2,
        "id": "MLYnFPcwL9XH",
        "colab": {
          "base_uri": "https://localhost:8080/"
        },
        "outputId": "0e5f24f0-18df-49fc-9d95-6d8f4dfd74c4"
      },
      "outputs": [
        {
          "output_type": "stream",
          "name": "stdout",
          "text": [
            "1302.4\n"
          ]
        }
      ],
      "source": [
        "pay =  (250*4 + 60*8)*0.8*1.1\n",
        "print(pay)"
      ]
    },
    {
      "cell_type": "markdown",
      "metadata": {
        "id": "xjzU2dpYL9XI"
      },
      "source": [
        "__[3]__ 「xが0よりも大きい」かつ「xを5で割ったあまりが2よりも小さい」という条件にあえば True、合わなかったら False が出力されるように、以下のプログラムを完成させてください。"
      ]
    },
    {
      "cell_type": "code",
      "execution_count": 4,
      "metadata": {
        "problem": 3,
        "id": "cb8dwjstL9XI",
        "colab": {
          "base_uri": "https://localhost:8080/"
        },
        "outputId": "a6efd71b-4e99-4fcc-84ea-0674f5c3a465"
      },
      "outputs": [
        {
          "output_type": "stream",
          "name": "stdout",
          "text": [
            "False\n"
          ]
        }
      ],
      "source": [
        "x = 7\n",
        "hantei = (x%5 < 2) and (x>0)\n",
        "print(hantei)"
      ]
    },
    {
      "cell_type": "markdown",
      "metadata": {
        "id": "xBprzM8vL9XI"
      },
      "source": [
        "__[4]__ y は100以下の数で3で割っても4で割っても割り切れる数であれば True, そうでなければ False を出力するように，以下のプログラムを完成してください．"
      ]
    },
    {
      "cell_type": "code",
      "execution_count": 6,
      "metadata": {
        "problem": 4,
        "id": "682soCyAL9XI",
        "colab": {
          "base_uri": "https://localhost:8080/"
        },
        "outputId": "2fbc79d5-382c-4af1-abc3-4f92890707b0"
      },
      "outputs": [
        {
          "output_type": "stream",
          "name": "stdout",
          "text": [
            "True\n"
          ]
        }
      ],
      "source": [
        "y = 24\n",
        "hantei =  (y<=100) and (y%12==0)\n",
        "print(hantei)"
      ]
    },
    {
      "cell_type": "markdown",
      "metadata": {
        "id": "F0a-5km4L9XI"
      },
      "source": [
        "__[5]__ 以下のプログラムを改変して、「大谷翔平は2024年に..歳になります」と出力するように、以下の式の XXXX, YYYY, ZZZZ の部分を変数を使って書いてください。"
      ]
    },
    {
      "cell_type": "code",
      "execution_count": 7,
      "metadata": {
        "problem": 5,
        "tags": [],
        "id": "C4nydZYAL9XI",
        "colab": {
          "base_uri": "https://localhost:8080/"
        },
        "outputId": "f01e8e28-dc88-4d1e-d388-03f66f7a1aa5"
      },
      "outputs": [
        {
          "output_type": "stream",
          "name": "stdout",
          "text": [
            "大谷翔平は2024年に30歳になります\n"
          ]
        }
      ],
      "source": [
        "year_birth = 1994\n",
        "year_now   = 2024\n",
        "age = year_now - year_birth# year_birth と year_now を使った式で書いてください\n",
        "print(f\"大谷翔平は{year_now}年に{age}歳になります\")"
      ]
    },
    {
      "cell_type": "markdown",
      "metadata": {
        "id": "RjZJ70NNL9XI"
      },
      "source": [
        "__[6]__ 標高が100m高くなると、気温が0.6度下がると言われています．高槻キャンパスの標高は約200mです．ある日の大阪市（海抜0mとする）の気温が20度であるときの高槻キャンパスの気温は何度と計算できるでしょう．以下のプログラムの xxxx, yyyyyy を変更してプログラムを完成させてください．"
      ]
    },
    {
      "cell_type": "code",
      "execution_count": 8,
      "metadata": {
        "id": "NrTgnhooL9XI",
        "colab": {
          "base_uri": "https://localhost:8080/"
        },
        "outputId": "58b29f38-9cfa-4c08-ecd5-fbeb7ac07d0b"
      },
      "outputs": [
        {
          "output_type": "stream",
          "name": "stdout",
          "text": [
            "高槻キャンパスの気温は18.8です\n"
          ]
        }
      ],
      "source": [
        "altitude = 200       # 標高\n",
        "temp_0 = 20       # 標高0mでの気温\n",
        "\n",
        "temp_takatsuki = 20-0.6*200/100\n",
        "print(f\"高槻キャンパスの気温は{temp_takatsuki}です\")"
      ]
    },
    {
      "cell_type": "markdown",
      "metadata": {
        "id": "LZQJiEsWL9XJ"
      },
      "source": [
        "# 課題の提出\n",
        "\n",
        "以下をダブルクリックして入力してください"
      ]
    },
    {
      "cell_type": "markdown",
      "metadata": {
        "id": "e_NhAp7KL9XJ"
      },
      "source": [
        "名前：横谷友紀"
      ]
    },
    {
      "cell_type": "markdown",
      "metadata": {
        "id": "HrvGX5B7L9XJ"
      },
      "source": [
        "学籍番号：情25-0483"
      ]
    },
    {
      "cell_type": "markdown",
      "metadata": {
        "id": "2cDWbxdzL9XJ"
      },
      "source": [
        "感想：Pythonを初めて触ったが、Cよりも融通が利きやすい感じがして二つの違いについて実感できた。"
      ]
    },
    {
      "cell_type": "markdown",
      "metadata": {
        "id": "WUmyEijfL9XJ"
      },
      "source": [
        "ファイルを保存したら，このファイルを「ダウンロード」ボタンからダウンロードし（左のファイルブラウザでファイルを選択して右クリックし，Downloadを選択してダウンロードすることもできます），関大LMSで提出してください．\n",
        "\n",
        "__注意：ダウンロードしたファイルは Word などのアプリケーションで中身を確認することはできません．中身を確認したい場合は Google Colab にファイルをアップロードして確認してください．__"
      ]
    },
    {
      "cell_type": "code",
      "execution_count": null,
      "metadata": {
        "id": "M3swQt1IL9XJ"
      },
      "outputs": [],
      "source": []
    }
  ],
  "metadata": {
    "anaconda-cloud": {},
    "kernelspec": {
      "display_name": "Python 3 (ipykernel)",
      "language": "python",
      "name": "python3"
    },
    "language_info": {
      "codemirror_mode": {
        "name": "ipython",
        "version": 3
      },
      "file_extension": ".py",
      "mimetype": "text/x-python",
      "name": "python",
      "nbconvert_exporter": "python",
      "pygments_lexer": "ipython3",
      "version": "3.11.5"
    },
    "colab": {
      "provenance": []
    }
  },
  "nbformat": 4,
  "nbformat_minor": 0
}